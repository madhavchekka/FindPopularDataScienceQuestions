{
 "cells": [
  {
   "cell_type": "code",
   "execution_count": 7,
   "metadata": {},
   "outputs": [],
   "source": [
    "import numpy as np\n",
    "import pandas as pd \n",
    "import matplotlib.pyplot as plt \n",
    "import seaborn as sns "
   ]
  },
  {
   "cell_type": "code",
   "execution_count": 8,
   "metadata": {},
   "outputs": [],
   "source": [
    "pd.set_option('display.max_rows',200)\n",
    "pd.set_option('display.max_colwidth',200)\n",
    "pd.set_option('display.max_columns',200)"
   ]
  },
  {
   "cell_type": "code",
   "execution_count": 9,
   "metadata": {},
   "outputs": [
    {
     "data": {
      "text/html": [
       "<div>\n",
       "<style scoped>\n",
       "    .dataframe tbody tr th:only-of-type {\n",
       "        vertical-align: middle;\n",
       "    }\n",
       "\n",
       "    .dataframe tbody tr th {\n",
       "        vertical-align: top;\n",
       "    }\n",
       "\n",
       "    .dataframe thead th {\n",
       "        text-align: right;\n",
       "    }\n",
       "</style>\n",
       "<table border=\"1\" class=\"dataframe\">\n",
       "  <thead>\n",
       "    <tr style=\"text-align: right;\">\n",
       "      <th></th>\n",
       "      <th>id</th>\n",
       "      <th>posttypeid</th>\n",
       "      <th>creationdate</th>\n",
       "      <th>score</th>\n",
       "      <th>viewcount</th>\n",
       "      <th>tags</th>\n",
       "      <th>answercount</th>\n",
       "      <th>favoritecount</th>\n",
       "    </tr>\n",
       "  </thead>\n",
       "  <tbody>\n",
       "    <tr>\n",
       "      <th>0</th>\n",
       "      <td>65678</td>\n",
       "      <td>1</td>\n",
       "      <td>2020-01-01 01:07:22</td>\n",
       "      <td>0</td>\n",
       "      <td>60</td>\n",
       "      <td>&lt;machine-learning&gt;&lt;deep-learning&gt;&lt;data-mining&gt;&lt;statistics&gt;&lt;logistic-regression&gt;</td>\n",
       "      <td>0</td>\n",
       "      <td>NaN</td>\n",
       "    </tr>\n",
       "    <tr>\n",
       "      <th>1</th>\n",
       "      <td>65680</td>\n",
       "      <td>1</td>\n",
       "      <td>2020-01-01 07:53:47</td>\n",
       "      <td>1</td>\n",
       "      <td>43</td>\n",
       "      <td>&lt;python&gt;&lt;k-means&gt;&lt;image-segmentation&gt;</td>\n",
       "      <td>1</td>\n",
       "      <td>NaN</td>\n",
       "    </tr>\n",
       "    <tr>\n",
       "      <th>2</th>\n",
       "      <td>65684</td>\n",
       "      <td>1</td>\n",
       "      <td>2020-01-01 11:27:44</td>\n",
       "      <td>3</td>\n",
       "      <td>296</td>\n",
       "      <td>&lt;r&gt;&lt;random-forest&gt;&lt;bigdata&gt;</td>\n",
       "      <td>2</td>\n",
       "      <td>1.0</td>\n",
       "    </tr>\n",
       "    <tr>\n",
       "      <th>3</th>\n",
       "      <td>65686</td>\n",
       "      <td>1</td>\n",
       "      <td>2020-01-01 13:56:11</td>\n",
       "      <td>1</td>\n",
       "      <td>117</td>\n",
       "      <td>&lt;computer-vision&gt;&lt;image-recognition&gt;&lt;vae&gt;</td>\n",
       "      <td>0</td>\n",
       "      <td>1.0</td>\n",
       "    </tr>\n",
       "    <tr>\n",
       "      <th>4</th>\n",
       "      <td>65688</td>\n",
       "      <td>1</td>\n",
       "      <td>2020-01-01 16:17:40</td>\n",
       "      <td>2</td>\n",
       "      <td>79</td>\n",
       "      <td>&lt;machine-learning&gt;&lt;neural-network&gt;&lt;deep-learning&gt;&lt;keras&gt;&lt;nlp&gt;</td>\n",
       "      <td>1</td>\n",
       "      <td>NaN</td>\n",
       "    </tr>\n",
       "  </tbody>\n",
       "</table>\n",
       "</div>"
      ],
      "text/plain": [
       "      id  posttypeid        creationdate  score  viewcount  \\\n",
       "0  65678           1 2020-01-01 01:07:22      0         60   \n",
       "1  65680           1 2020-01-01 07:53:47      1         43   \n",
       "2  65684           1 2020-01-01 11:27:44      3        296   \n",
       "3  65686           1 2020-01-01 13:56:11      1        117   \n",
       "4  65688           1 2020-01-01 16:17:40      2         79   \n",
       "\n",
       "                                                                              tags  \\\n",
       "0  <machine-learning><deep-learning><data-mining><statistics><logistic-regression>   \n",
       "1                                            <python><k-means><image-segmentation>   \n",
       "2                                                      <r><random-forest><bigdata>   \n",
       "3                                        <computer-vision><image-recognition><vae>   \n",
       "4                    <machine-learning><neural-network><deep-learning><keras><nlp>   \n",
       "\n",
       "   answercount  favoritecount  \n",
       "0            0            NaN  \n",
       "1            1            NaN  \n",
       "2            2            1.0  \n",
       "3            0            1.0  \n",
       "4            1            NaN  "
      ]
     },
     "execution_count": 9,
     "metadata": {},
     "output_type": "execute_result"
    }
   ],
   "source": [
    "# Loaded the dataset with parse dates option of read_csv\n",
    "df = pd.read_csv('../input/QueryResults.csv',parse_dates=['creationdate'])\n",
    "df.head(5)"
   ]
  },
  {
   "cell_type": "code",
   "execution_count": 10,
   "metadata": {},
   "outputs": [],
   "source": [
    "# Dropping the below column as all posts are of same type: questions\n",
    "df.drop(columns='posttypeid',inplace=True)"
   ]
  },
  {
   "cell_type": "code",
   "execution_count": 11,
   "metadata": {},
   "outputs": [
    {
     "name": "stdout",
     "output_type": "stream",
     "text": [
      "Shape of the dataset: (7503, 7)\n"
     ]
    }
   ],
   "source": [
    "print('Shape of the dataset: ' + str(df.shape) )"
   ]
  },
  {
   "cell_type": "code",
   "execution_count": 12,
   "metadata": {},
   "outputs": [
    {
     "name": "stdout",
     "output_type": "stream",
     "text": [
      "<class 'pandas.core.frame.DataFrame'>\n",
      "RangeIndex: 7503 entries, 0 to 7502\n",
      "Data columns (total 7 columns):\n",
      " #   Column         Non-Null Count  Dtype         \n",
      "---  ------         --------------  -----         \n",
      " 0   id             7503 non-null   int64         \n",
      " 1   creationdate   7503 non-null   datetime64[ns]\n",
      " 2   score          7503 non-null   int64         \n",
      " 3   viewcount      7503 non-null   int64         \n",
      " 4   tags           7503 non-null   object        \n",
      " 5   answercount    7503 non-null   int64         \n",
      " 6   favoritecount  883 non-null    float64       \n",
      "dtypes: datetime64[ns](1), float64(1), int64(4), object(1)\n",
      "memory usage: 410.4+ KB\n"
     ]
    }
   ],
   "source": [
    "# id, posttypeid are just unique identifiers\n",
    "# Because of null values in favoritecount column, datatype is float\n",
    "# It can be casted to int after filling in the null values \n",
    "# Other datatypes seem to be appropriate\n",
    "df.info()"
   ]
  },
  {
   "cell_type": "code",
   "execution_count": 13,
   "metadata": {},
   "outputs": [
    {
     "data": {
      "text/plain": [
       "id                  0\n",
       "creationdate        0\n",
       "score               0\n",
       "viewcount           0\n",
       "tags                0\n",
       "answercount         0\n",
       "favoritecount    6620\n",
       "dtype: int64"
      ]
     },
     "execution_count": 13,
     "metadata": {},
     "output_type": "execute_result"
    }
   ],
   "source": [
    "# Except for the favoritecount column, there are no null values in other columns\n",
    "df.isnull().sum()"
   ]
  },
  {
   "cell_type": "code",
   "execution_count": 14,
   "metadata": {},
   "outputs": [
    {
     "data": {
      "text/plain": [
       "NaN     6620\n",
       "1.0      657\n",
       "0.0       95\n",
       "2.0       92\n",
       "3.0       20\n",
       "6.0        7\n",
       "4.0        6\n",
       "5.0        3\n",
       "10.0       2\n",
       "7.0        1\n",
       "Name: favoritecount, dtype: int64"
      ]
     },
     "execution_count": 14,
     "metadata": {},
     "output_type": "execute_result"
    }
   ],
   "source": [
    "# There are 6620 null values in favoritecount column. \n",
    "# It is safe to replace the null values with 0\n",
    "df.favoritecount.value_counts(dropna=False)"
   ]
  },
  {
   "cell_type": "code",
   "execution_count": 15,
   "metadata": {},
   "outputs": [
    {
     "data": {
      "text/plain": [
       "id               0\n",
       "creationdate     0\n",
       "score            0\n",
       "viewcount        0\n",
       "tags             0\n",
       "answercount      0\n",
       "favoritecount    0\n",
       "dtype: int64"
      ]
     },
     "execution_count": 15,
     "metadata": {},
     "output_type": "execute_result"
    }
   ],
   "source": [
    "# Filling the null values with 0\n",
    "df = df.fillna(value=0)\n",
    "df['favoritecount'] = df['favoritecount'].astype(int)\n",
    "df.isnull().sum()"
   ]
  },
  {
   "cell_type": "code",
   "execution_count": 16,
   "metadata": {},
   "outputs": [
    {
     "name": "stdout",
     "output_type": "stream",
     "text": [
      "<class 'pandas.core.frame.DataFrame'>\n",
      "RangeIndex: 7503 entries, 0 to 7502\n",
      "Data columns (total 7 columns):\n",
      " #   Column         Non-Null Count  Dtype         \n",
      "---  ------         --------------  -----         \n",
      " 0   id             7503 non-null   int64         \n",
      " 1   creationdate   7503 non-null   datetime64[ns]\n",
      " 2   score          7503 non-null   int64         \n",
      " 3   viewcount      7503 non-null   int64         \n",
      " 4   tags           7503 non-null   object        \n",
      " 5   answercount    7503 non-null   int64         \n",
      " 6   favoritecount  7503 non-null   int64         \n",
      "dtypes: datetime64[ns](1), int64(5), object(1)\n",
      "memory usage: 410.4+ KB\n"
     ]
    }
   ],
   "source": [
    "# Changed the datatype of favoritecount to int\n",
    "df.info()"
   ]
  },
  {
   "cell_type": "code",
   "execution_count": 17,
   "metadata": {},
   "outputs": [],
   "source": [
    "# In tags column, there are multiple tags separated by <> \n",
    "# To do analysis, it would be better if tags are converted to a list \n",
    "\n",
    "def clean_tags(value):\n",
    "    value = value.replace(r'>',',')\n",
    "    value = value.replace(r'<', '')\n",
    "    value = value.split(',')\n",
    "    value.remove('')\n",
    "    return value\n"
   ]
  },
  {
   "cell_type": "code",
   "execution_count": 18,
   "metadata": {},
   "outputs": [],
   "source": [
    "x= clean_tags('<machine-learning><deep-learning><data-mining><statistics><logistic-regression>')"
   ]
  },
  {
   "cell_type": "code",
   "execution_count": 19,
   "metadata": {},
   "outputs": [],
   "source": [
    "df['tags'] = df['tags'].apply(lambda v: clean_tags(str(v)))"
   ]
  },
  {
   "cell_type": "code",
   "execution_count": 20,
   "metadata": {},
   "outputs": [
    {
     "data": {
      "text/plain": [
       "3606                                 [decision-trees, cart]\n",
       "1671        [machine-learning, python, logistic-regression]\n",
       "4526                             [python, confusion-matrix]\n",
       "428                         [neural-network, deep-learning]\n",
       "5620                                     [machine-learning]\n",
       "564     [python, scikit-learn, feature-selection, training]\n",
       "6175                                            [gpu, cuda]\n",
       "868                                    [deep-learning, gan]\n",
       "148                                          [jupyter, pip]\n",
       "5360                         [nlp, clustering, text-mining]\n",
       "Name: tags, dtype: object"
      ]
     },
     "execution_count": 20,
     "metadata": {},
     "output_type": "execute_result"
    }
   ],
   "source": [
    "df['tags'].sample(10,random_state=8)"
   ]
  },
  {
   "cell_type": "markdown",
   "metadata": {},
   "source": [
    "We now focus on determining the most popular tags. We'll do so by considering two different popularity proxies: for each tag we'll count how many times the tag was used, and how many times a question with that tag was viewed.\n",
    "\n",
    "We could take into account the score, or whether or not a question is part of someone's favorite questions. These are all reasonable options to investigate; but we'll limit the focus of our research to counts and views for now.\n",
    "\n",
    "Count how many times each tag was used.  \n",
    "Count how many times each tag was viewed.  \n",
    "Create visualizations for the top tags of each of the above results.  "
   ]
  },
  {
   "cell_type": "code",
   "execution_count": 21,
   "metadata": {},
   "outputs": [],
   "source": [
    "# Get the list of all unique tags\n",
    "\n",
    "unique_tags = []\n",
    "for tags in df['tags']:\n",
    "    for tag in tags:\n",
    "        unique_tags.append(tag)\n",
    "\n",
    "unique_tags = set(unique_tags)\n",
    "unique_tags = list(unique_tags)\n",
    "unique_tags.sort()\n",
    "        "
   ]
  },
  {
   "cell_type": "code",
   "execution_count": 22,
   "metadata": {},
   "outputs": [
    {
     "name": "stdout",
     "output_type": "stream",
     "text": [
      "Total number of unique tags: 592\n"
     ]
    }
   ],
   "source": [
    "print('Total number of unique tags: ' + str(len(unique_tags)))"
   ]
  },
  {
   "cell_type": "code",
   "execution_count": 23,
   "metadata": {},
   "outputs": [],
   "source": [
    "from collections import defaultdict"
   ]
  },
  {
   "cell_type": "code",
   "execution_count": 24,
   "metadata": {},
   "outputs": [],
   "source": [
    "# Now that we have the list of unique tags, lets get the \n",
    "# frequency of each tag from the questions dataset df \n",
    "\n",
    "tag_freq = defaultdict(int)\n",
    "\n",
    "for index, item in df['tags'].iteritems():\n",
    "    #print(index, item)\n",
    "    for tag in item:\n",
    "        tag_freq[tag] +=1\n",
    "    "
   ]
  },
  {
   "cell_type": "code",
   "execution_count": 25,
   "metadata": {},
   "outputs": [
    {
     "data": {
      "text/plain": [
       "[('machine-learning', 2169),\n",
       " ('python', 1418),\n",
       " ('deep-learning', 1060),\n",
       " ('neural-network', 867),\n",
       " ('keras', 686),\n",
       " ('classification', 634),\n",
       " ('tensorflow', 584),\n",
       " ('nlp', 504),\n",
       " ('scikit-learn', 494),\n",
       " ('time-series', 394)]"
      ]
     },
     "execution_count": 25,
     "metadata": {},
     "output_type": "execute_result"
    }
   ],
   "source": [
    "keys_sorted= sorted(tag_freq.items(),key= lambda kv: kv[1],reverse=True)\n",
    "keys_sorted[:10]"
   ]
  },
  {
   "cell_type": "code",
   "execution_count": 26,
   "metadata": {},
   "outputs": [
    {
     "data": {
      "text/html": [
       "<div>\n",
       "<style scoped>\n",
       "    .dataframe tbody tr th:only-of-type {\n",
       "        vertical-align: middle;\n",
       "    }\n",
       "\n",
       "    .dataframe tbody tr th {\n",
       "        vertical-align: top;\n",
       "    }\n",
       "\n",
       "    .dataframe thead th {\n",
       "        text-align: right;\n",
       "    }\n",
       "</style>\n",
       "<table border=\"1\" class=\"dataframe\">\n",
       "  <thead>\n",
       "    <tr style=\"text-align: right;\">\n",
       "      <th></th>\n",
       "      <th>tag</th>\n",
       "      <th>count</th>\n",
       "    </tr>\n",
       "  </thead>\n",
       "  <tbody>\n",
       "    <tr>\n",
       "      <th>0</th>\n",
       "      <td>machine-learning</td>\n",
       "      <td>2169</td>\n",
       "    </tr>\n",
       "    <tr>\n",
       "      <th>1</th>\n",
       "      <td>python</td>\n",
       "      <td>1418</td>\n",
       "    </tr>\n",
       "    <tr>\n",
       "      <th>2</th>\n",
       "      <td>deep-learning</td>\n",
       "      <td>1060</td>\n",
       "    </tr>\n",
       "    <tr>\n",
       "      <th>3</th>\n",
       "      <td>neural-network</td>\n",
       "      <td>867</td>\n",
       "    </tr>\n",
       "    <tr>\n",
       "      <th>4</th>\n",
       "      <td>keras</td>\n",
       "      <td>686</td>\n",
       "    </tr>\n",
       "    <tr>\n",
       "      <th>5</th>\n",
       "      <td>classification</td>\n",
       "      <td>634</td>\n",
       "    </tr>\n",
       "    <tr>\n",
       "      <th>6</th>\n",
       "      <td>tensorflow</td>\n",
       "      <td>584</td>\n",
       "    </tr>\n",
       "    <tr>\n",
       "      <th>7</th>\n",
       "      <td>nlp</td>\n",
       "      <td>504</td>\n",
       "    </tr>\n",
       "    <tr>\n",
       "      <th>8</th>\n",
       "      <td>scikit-learn</td>\n",
       "      <td>494</td>\n",
       "    </tr>\n",
       "    <tr>\n",
       "      <th>9</th>\n",
       "      <td>time-series</td>\n",
       "      <td>394</td>\n",
       "    </tr>\n",
       "    <tr>\n",
       "      <th>10</th>\n",
       "      <td>cnn</td>\n",
       "      <td>360</td>\n",
       "    </tr>\n",
       "    <tr>\n",
       "      <th>11</th>\n",
       "      <td>regression</td>\n",
       "      <td>354</td>\n",
       "    </tr>\n",
       "    <tr>\n",
       "      <th>12</th>\n",
       "      <td>dataset</td>\n",
       "      <td>317</td>\n",
       "    </tr>\n",
       "    <tr>\n",
       "      <th>13</th>\n",
       "      <td>lstm</td>\n",
       "      <td>309</td>\n",
       "    </tr>\n",
       "    <tr>\n",
       "      <th>14</th>\n",
       "      <td>pandas</td>\n",
       "      <td>274</td>\n",
       "    </tr>\n",
       "  </tbody>\n",
       "</table>\n",
       "</div>"
      ],
      "text/plain": [
       "                 tag  count\n",
       "0   machine-learning   2169\n",
       "1             python   1418\n",
       "2      deep-learning   1060\n",
       "3     neural-network    867\n",
       "4              keras    686\n",
       "5     classification    634\n",
       "6         tensorflow    584\n",
       "7                nlp    504\n",
       "8       scikit-learn    494\n",
       "9        time-series    394\n",
       "10               cnn    360\n",
       "11        regression    354\n",
       "12           dataset    317\n",
       "13              lstm    309\n",
       "14            pandas    274"
      ]
     },
     "execution_count": 26,
     "metadata": {},
     "output_type": "execute_result"
    }
   ],
   "source": [
    "tagfreq_df = pd.DataFrame(keys_sorted,columns=['tag','count'])\n",
    "tagfreq_df.head(15)"
   ]
  },
  {
   "cell_type": "code",
   "execution_count": 27,
   "metadata": {},
   "outputs": [
    {
     "data": {
      "image/png": "[encoded data removed]",
      "text/plain": [
       "<Figure size 432x288 with 1 Axes>"
      ]
     },
     "metadata": {
      "needs_background": "light"
     },
     "output_type": "display_data"
    }
   ],
   "source": [
    "tagfreq_df.head(20).plot(kind='bar',x='tag',y='count')\n",
    "plt.show()"
   ]
  },
  {
   "cell_type": "code",
   "execution_count": 28,
   "metadata": {},
   "outputs": [],
   "source": [
    "view_freq = defaultdict(int)\n",
    "\n",
    "for index,row in df.iterrows():\n",
    "    for tag in row['tags']:\n",
    "        view_freq[tag] += row['viewcount']\n",
    "        "
   ]
  },
  {
   "cell_type": "code",
   "execution_count": 29,
   "metadata": {},
   "outputs": [
    {
     "data": {
      "text/plain": [
       "[('machine-learning', 225765),\n",
       " ('python', 217005),\n",
       " ('keras', 126425),\n",
       " ('deep-learning', 97367),\n",
       " ('tensorflow', 88465),\n",
       " ('pandas', 81311),\n",
       " ('neural-network', 76851),\n",
       " ('scikit-learn', 75113),\n",
       " ('nlp', 58276),\n",
       " ('classification', 55619)]"
      ]
     },
     "execution_count": 29,
     "metadata": {},
     "output_type": "execute_result"
    }
   ],
   "source": [
    "view_freq\n",
    "keys_sorted= (sorted(view_freq.items(),key= lambda kv: kv[1],reverse=True))\n",
    "keys_sorted[:10]"
   ]
  },
  {
   "cell_type": "code",
   "execution_count": 30,
   "metadata": {},
   "outputs": [
    {
     "data": {
      "text/html": [
       "<div>\n",
       "<style scoped>\n",
       "    .dataframe tbody tr th:only-of-type {\n",
       "        vertical-align: middle;\n",
       "    }\n",
       "\n",
       "    .dataframe tbody tr th {\n",
       "        vertical-align: top;\n",
       "    }\n",
       "\n",
       "    .dataframe thead th {\n",
       "        text-align: right;\n",
       "    }\n",
       "</style>\n",
       "<table border=\"1\" class=\"dataframe\">\n",
       "  <thead>\n",
       "    <tr style=\"text-align: right;\">\n",
       "      <th></th>\n",
       "      <th>tag</th>\n",
       "      <th>count</th>\n",
       "    </tr>\n",
       "  </thead>\n",
       "  <tbody>\n",
       "    <tr>\n",
       "      <th>0</th>\n",
       "      <td>machine-learning</td>\n",
       "      <td>225765</td>\n",
       "    </tr>\n",
       "    <tr>\n",
       "      <th>1</th>\n",
       "      <td>python</td>\n",
       "      <td>217005</td>\n",
       "    </tr>\n",
       "    <tr>\n",
       "      <th>2</th>\n",
       "      <td>keras</td>\n",
       "      <td>126425</td>\n",
       "    </tr>\n",
       "    <tr>\n",
       "      <th>3</th>\n",
       "      <td>deep-learning</td>\n",
       "      <td>97367</td>\n",
       "    </tr>\n",
       "    <tr>\n",
       "      <th>4</th>\n",
       "      <td>tensorflow</td>\n",
       "      <td>88465</td>\n",
       "    </tr>\n",
       "    <tr>\n",
       "      <th>5</th>\n",
       "      <td>pandas</td>\n",
       "      <td>81311</td>\n",
       "    </tr>\n",
       "    <tr>\n",
       "      <th>6</th>\n",
       "      <td>neural-network</td>\n",
       "      <td>76851</td>\n",
       "    </tr>\n",
       "    <tr>\n",
       "      <th>7</th>\n",
       "      <td>scikit-learn</td>\n",
       "      <td>75113</td>\n",
       "    </tr>\n",
       "    <tr>\n",
       "      <th>8</th>\n",
       "      <td>nlp</td>\n",
       "      <td>58276</td>\n",
       "    </tr>\n",
       "    <tr>\n",
       "      <th>9</th>\n",
       "      <td>classification</td>\n",
       "      <td>55619</td>\n",
       "    </tr>\n",
       "    <tr>\n",
       "      <th>10</th>\n",
       "      <td>cnn</td>\n",
       "      <td>35515</td>\n",
       "    </tr>\n",
       "    <tr>\n",
       "      <th>11</th>\n",
       "      <td>r</td>\n",
       "      <td>34268</td>\n",
       "    </tr>\n",
       "    <tr>\n",
       "      <th>12</th>\n",
       "      <td>dataset</td>\n",
       "      <td>32928</td>\n",
       "    </tr>\n",
       "    <tr>\n",
       "      <th>13</th>\n",
       "      <td>data-cleaning</td>\n",
       "      <td>32634</td>\n",
       "    </tr>\n",
       "    <tr>\n",
       "      <th>14</th>\n",
       "      <td>lstm</td>\n",
       "      <td>32490</td>\n",
       "    </tr>\n",
       "  </tbody>\n",
       "</table>\n",
       "</div>"
      ],
      "text/plain": [
       "                 tag   count\n",
       "0   machine-learning  225765\n",
       "1             python  217005\n",
       "2              keras  126425\n",
       "3      deep-learning   97367\n",
       "4         tensorflow   88465\n",
       "5             pandas   81311\n",
       "6     neural-network   76851\n",
       "7       scikit-learn   75113\n",
       "8                nlp   58276\n",
       "9     classification   55619\n",
       "10               cnn   35515\n",
       "11                 r   34268\n",
       "12           dataset   32928\n",
       "13     data-cleaning   32634\n",
       "14              lstm   32490"
      ]
     },
     "execution_count": 30,
     "metadata": {},
     "output_type": "execute_result"
    }
   ],
   "source": [
    "viewfreq_df = pd.DataFrame(keys_sorted,columns=['tag','count'])\n",
    "viewfreq_df.head(15)"
   ]
  },
  {
   "cell_type": "code",
   "execution_count": 31,
   "metadata": {
    "scrolled": true
   },
   "outputs": [
    {
     "data": {
      "image/png": "[encoded data removed]",
      "text/plain": [
       "<Figure size 432x288 with 1 Axes>"
      ]
     },
     "metadata": {
      "needs_background": "light"
     },
     "output_type": "display_data"
    }
   ],
   "source": [
    "viewfreq_df.head(20).plot(kind='bar',x='tag',y='count')\n",
    "plt.show()"
   ]
  },
  {
   "cell_type": "code",
   "execution_count": 32,
   "metadata": {},
   "outputs": [
    {
     "data": {
      "text/html": [
       "<div>\n",
       "<style scoped>\n",
       "    .dataframe tbody tr th:only-of-type {\n",
       "        vertical-align: middle;\n",
       "    }\n",
       "\n",
       "    .dataframe tbody tr th {\n",
       "        vertical-align: top;\n",
       "    }\n",
       "\n",
       "    .dataframe thead th {\n",
       "        text-align: right;\n",
       "    }\n",
       "</style>\n",
       "<table border=\"1\" class=\"dataframe\">\n",
       "  <thead>\n",
       "    <tr style=\"text-align: right;\">\n",
       "      <th></th>\n",
       "      <th>tag</th>\n",
       "      <th>count_x</th>\n",
       "      <th>count_y</th>\n",
       "    </tr>\n",
       "  </thead>\n",
       "  <tbody>\n",
       "    <tr>\n",
       "      <th>0</th>\n",
       "      <td>machine-learning</td>\n",
       "      <td>2169</td>\n",
       "      <td>225765.0</td>\n",
       "    </tr>\n",
       "    <tr>\n",
       "      <th>1</th>\n",
       "      <td>python</td>\n",
       "      <td>1418</td>\n",
       "      <td>217005.0</td>\n",
       "    </tr>\n",
       "    <tr>\n",
       "      <th>2</th>\n",
       "      <td>deep-learning</td>\n",
       "      <td>1060</td>\n",
       "      <td>97367.0</td>\n",
       "    </tr>\n",
       "    <tr>\n",
       "      <th>3</th>\n",
       "      <td>neural-network</td>\n",
       "      <td>867</td>\n",
       "      <td>76851.0</td>\n",
       "    </tr>\n",
       "    <tr>\n",
       "      <th>4</th>\n",
       "      <td>keras</td>\n",
       "      <td>686</td>\n",
       "      <td>126425.0</td>\n",
       "    </tr>\n",
       "    <tr>\n",
       "      <th>5</th>\n",
       "      <td>classification</td>\n",
       "      <td>634</td>\n",
       "      <td>55619.0</td>\n",
       "    </tr>\n",
       "    <tr>\n",
       "      <th>6</th>\n",
       "      <td>tensorflow</td>\n",
       "      <td>584</td>\n",
       "      <td>88465.0</td>\n",
       "    </tr>\n",
       "    <tr>\n",
       "      <th>7</th>\n",
       "      <td>nlp</td>\n",
       "      <td>504</td>\n",
       "      <td>58276.0</td>\n",
       "    </tr>\n",
       "    <tr>\n",
       "      <th>8</th>\n",
       "      <td>scikit-learn</td>\n",
       "      <td>494</td>\n",
       "      <td>75113.0</td>\n",
       "    </tr>\n",
       "    <tr>\n",
       "      <th>9</th>\n",
       "      <td>time-series</td>\n",
       "      <td>394</td>\n",
       "      <td>25526.0</td>\n",
       "    </tr>\n",
       "    <tr>\n",
       "      <th>10</th>\n",
       "      <td>cnn</td>\n",
       "      <td>360</td>\n",
       "      <td>35515.0</td>\n",
       "    </tr>\n",
       "    <tr>\n",
       "      <th>11</th>\n",
       "      <td>regression</td>\n",
       "      <td>354</td>\n",
       "      <td>27093.0</td>\n",
       "    </tr>\n",
       "    <tr>\n",
       "      <th>12</th>\n",
       "      <td>dataset</td>\n",
       "      <td>317</td>\n",
       "      <td>32928.0</td>\n",
       "    </tr>\n",
       "    <tr>\n",
       "      <th>13</th>\n",
       "      <td>lstm</td>\n",
       "      <td>309</td>\n",
       "      <td>32490.0</td>\n",
       "    </tr>\n",
       "    <tr>\n",
       "      <th>14</th>\n",
       "      <td>pandas</td>\n",
       "      <td>274</td>\n",
       "      <td>81311.0</td>\n",
       "    </tr>\n",
       "    <tr>\n",
       "      <th>15</th>\n",
       "      <td>statistics</td>\n",
       "      <td>253</td>\n",
       "      <td>NaN</td>\n",
       "    </tr>\n",
       "    <tr>\n",
       "      <th>16</th>\n",
       "      <td>clustering</td>\n",
       "      <td>245</td>\n",
       "      <td>NaN</td>\n",
       "    </tr>\n",
       "    <tr>\n",
       "      <th>17</th>\n",
       "      <td>r</td>\n",
       "      <td>220</td>\n",
       "      <td>34268.0</td>\n",
       "    </tr>\n",
       "    <tr>\n",
       "      <th>18</th>\n",
       "      <td>predictive-modeling</td>\n",
       "      <td>204</td>\n",
       "      <td>NaN</td>\n",
       "    </tr>\n",
       "    <tr>\n",
       "      <th>19</th>\n",
       "      <td>feature-selection</td>\n",
       "      <td>188</td>\n",
       "      <td>NaN</td>\n",
       "    </tr>\n",
       "  </tbody>\n",
       "</table>\n",
       "</div>"
      ],
      "text/plain": [
       "                    tag  count_x   count_y\n",
       "0      machine-learning     2169  225765.0\n",
       "1                python     1418  217005.0\n",
       "2         deep-learning     1060   97367.0\n",
       "3        neural-network      867   76851.0\n",
       "4                 keras      686  126425.0\n",
       "5        classification      634   55619.0\n",
       "6            tensorflow      584   88465.0\n",
       "7                   nlp      504   58276.0\n",
       "8          scikit-learn      494   75113.0\n",
       "9           time-series      394   25526.0\n",
       "10                  cnn      360   35515.0\n",
       "11           regression      354   27093.0\n",
       "12              dataset      317   32928.0\n",
       "13                 lstm      309   32490.0\n",
       "14               pandas      274   81311.0\n",
       "15           statistics      253       NaN\n",
       "16           clustering      245       NaN\n",
       "17                    r      220   34268.0\n",
       "18  predictive-modeling      204       NaN\n",
       "19    feature-selection      188       NaN"
      ]
     },
     "execution_count": 32,
     "metadata": {},
     "output_type": "execute_result"
    }
   ],
   "source": [
    "merged_df = pd.merge(tagfreq_df.head(20),viewfreq_df.head(20),how='left',on = 'tag')\n",
    "merged_df.head(20)"
   ]
  },
  {
   "cell_type": "code",
   "execution_count": 33,
   "metadata": {},
   "outputs": [
    {
     "data": {
      "text/plain": [
       "['statistics', 'clustering', 'predictive-modeling', 'feature-selection']"
      ]
     },
     "execution_count": 33,
     "metadata": {},
     "output_type": "execute_result"
    }
   ],
   "source": [
    "merged_df.loc[merged_df['count_y'].isnull()==True,'tag'].tolist()"
   ]
  },
  {
   "cell_type": "code",
   "execution_count": 34,
   "metadata": {},
   "outputs": [
    {
     "data": {
      "text/html": [
       "<div>\n",
       "<style scoped>\n",
       "    .dataframe tbody tr th:only-of-type {\n",
       "        vertical-align: middle;\n",
       "    }\n",
       "\n",
       "    .dataframe tbody tr th {\n",
       "        vertical-align: top;\n",
       "    }\n",
       "\n",
       "    .dataframe thead th {\n",
       "        text-align: right;\n",
       "    }\n",
       "</style>\n",
       "<table border=\"1\" class=\"dataframe\">\n",
       "  <thead>\n",
       "    <tr style=\"text-align: right;\">\n",
       "      <th></th>\n",
       "      <th>tag</th>\n",
       "      <th>count_x</th>\n",
       "      <th>count_y</th>\n",
       "    </tr>\n",
       "  </thead>\n",
       "  <tbody>\n",
       "    <tr>\n",
       "      <th>0</th>\n",
       "      <td>machine-learning</td>\n",
       "      <td>2169.0</td>\n",
       "      <td>225765</td>\n",
       "    </tr>\n",
       "    <tr>\n",
       "      <th>1</th>\n",
       "      <td>python</td>\n",
       "      <td>1418.0</td>\n",
       "      <td>217005</td>\n",
       "    </tr>\n",
       "    <tr>\n",
       "      <th>2</th>\n",
       "      <td>keras</td>\n",
       "      <td>686.0</td>\n",
       "      <td>126425</td>\n",
       "    </tr>\n",
       "    <tr>\n",
       "      <th>3</th>\n",
       "      <td>deep-learning</td>\n",
       "      <td>1060.0</td>\n",
       "      <td>97367</td>\n",
       "    </tr>\n",
       "    <tr>\n",
       "      <th>4</th>\n",
       "      <td>tensorflow</td>\n",
       "      <td>584.0</td>\n",
       "      <td>88465</td>\n",
       "    </tr>\n",
       "    <tr>\n",
       "      <th>5</th>\n",
       "      <td>pandas</td>\n",
       "      <td>274.0</td>\n",
       "      <td>81311</td>\n",
       "    </tr>\n",
       "    <tr>\n",
       "      <th>6</th>\n",
       "      <td>neural-network</td>\n",
       "      <td>867.0</td>\n",
       "      <td>76851</td>\n",
       "    </tr>\n",
       "    <tr>\n",
       "      <th>7</th>\n",
       "      <td>scikit-learn</td>\n",
       "      <td>494.0</td>\n",
       "      <td>75113</td>\n",
       "    </tr>\n",
       "    <tr>\n",
       "      <th>8</th>\n",
       "      <td>nlp</td>\n",
       "      <td>504.0</td>\n",
       "      <td>58276</td>\n",
       "    </tr>\n",
       "    <tr>\n",
       "      <th>9</th>\n",
       "      <td>classification</td>\n",
       "      <td>634.0</td>\n",
       "      <td>55619</td>\n",
       "    </tr>\n",
       "    <tr>\n",
       "      <th>10</th>\n",
       "      <td>cnn</td>\n",
       "      <td>360.0</td>\n",
       "      <td>35515</td>\n",
       "    </tr>\n",
       "    <tr>\n",
       "      <th>11</th>\n",
       "      <td>r</td>\n",
       "      <td>220.0</td>\n",
       "      <td>34268</td>\n",
       "    </tr>\n",
       "    <tr>\n",
       "      <th>12</th>\n",
       "      <td>dataset</td>\n",
       "      <td>317.0</td>\n",
       "      <td>32928</td>\n",
       "    </tr>\n",
       "    <tr>\n",
       "      <th>13</th>\n",
       "      <td>data-cleaning</td>\n",
       "      <td>NaN</td>\n",
       "      <td>32634</td>\n",
       "    </tr>\n",
       "    <tr>\n",
       "      <th>14</th>\n",
       "      <td>lstm</td>\n",
       "      <td>309.0</td>\n",
       "      <td>32490</td>\n",
       "    </tr>\n",
       "    <tr>\n",
       "      <th>15</th>\n",
       "      <td>dataframe</td>\n",
       "      <td>NaN</td>\n",
       "      <td>30929</td>\n",
       "    </tr>\n",
       "    <tr>\n",
       "      <th>16</th>\n",
       "      <td>regression</td>\n",
       "      <td>354.0</td>\n",
       "      <td>27093</td>\n",
       "    </tr>\n",
       "    <tr>\n",
       "      <th>17</th>\n",
       "      <td>time-series</td>\n",
       "      <td>394.0</td>\n",
       "      <td>25526</td>\n",
       "    </tr>\n",
       "    <tr>\n",
       "      <th>18</th>\n",
       "      <td>python-3.x</td>\n",
       "      <td>NaN</td>\n",
       "      <td>25455</td>\n",
       "    </tr>\n",
       "    <tr>\n",
       "      <th>19</th>\n",
       "      <td>bert</td>\n",
       "      <td>NaN</td>\n",
       "      <td>24908</td>\n",
       "    </tr>\n",
       "  </tbody>\n",
       "</table>\n",
       "</div>"
      ],
      "text/plain": [
       "                 tag  count_x  count_y\n",
       "0   machine-learning   2169.0   225765\n",
       "1             python   1418.0   217005\n",
       "2              keras    686.0   126425\n",
       "3      deep-learning   1060.0    97367\n",
       "4         tensorflow    584.0    88465\n",
       "5             pandas    274.0    81311\n",
       "6     neural-network    867.0    76851\n",
       "7       scikit-learn    494.0    75113\n",
       "8                nlp    504.0    58276\n",
       "9     classification    634.0    55619\n",
       "10               cnn    360.0    35515\n",
       "11                 r    220.0    34268\n",
       "12           dataset    317.0    32928\n",
       "13     data-cleaning      NaN    32634\n",
       "14              lstm    309.0    32490\n",
       "15         dataframe      NaN    30929\n",
       "16        regression    354.0    27093\n",
       "17       time-series    394.0    25526\n",
       "18        python-3.x      NaN    25455\n",
       "19              bert      NaN    24908"
      ]
     },
     "execution_count": 34,
     "metadata": {},
     "output_type": "execute_result"
    }
   ],
   "source": [
    "merged_df2 = pd.merge(tagfreq_df.head(20),viewfreq_df.head(20),how='right',on = 'tag')\n",
    "merged_df2.head(20)"
   ]
  },
  {
   "cell_type": "code",
   "execution_count": 35,
   "metadata": {},
   "outputs": [
    {
     "data": {
      "text/plain": [
       "['data-cleaning', 'dataframe', 'python-3.x', 'bert']"
      ]
     },
     "execution_count": 35,
     "metadata": {},
     "output_type": "execute_result"
    }
   ],
   "source": [
    "merged_df2.loc[merged_df2['count_x'].isnull()==True,'tag'].tolist()"
   ]
  },
  {
   "cell_type": "code",
   "execution_count": null,
   "metadata": {},
   "outputs": [],
   "source": []
  }
 ],
 "metadata": {
  "kernelspec": {
   "display_name": "Python 3",
   "language": "python",
   "name": "python3"
  },
  "language_info": {
   "codemirror_mode": {
    "name": "ipython",
    "version": 3
   },
   "file_extension": ".py",
   "mimetype": "text/x-python",
   "name": "python",
   "nbconvert_exporter": "python",
   "pygments_lexer": "ipython3",
   "version": "3.7.6"
  }
 },
 "nbformat": 4,
 "nbformat_minor": 4
}
